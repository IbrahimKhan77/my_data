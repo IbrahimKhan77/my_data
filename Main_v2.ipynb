{
  "nbformat": 4,
  "nbformat_minor": 0,
  "metadata": {
    "colab": {
      "provenance": [],
      "collapsed_sections": [],
      "authorship_tag": "ABX9TyNcqcAFJgWVHI98qNyuDlSA",
      "include_colab_link": true
    },
    "kernelspec": {
      "name": "python3",
      "display_name": "Python 3"
    },
    "language_info": {
      "name": "python"
    }
  },
  "cells": [
    {
      "cell_type": "markdown",
      "metadata": {
        "id": "view-in-github",
        "colab_type": "text"
      },
      "source": [
        "<a href=\"https://colab.research.google.com/github/IbrahimKhan77/my_data/blob/main/Main_v2.ipynb\" target=\"_parent\"><img src=\"https://colab.research.google.com/assets/colab-badge.svg\" alt=\"Open In Colab\"/></a>"
      ]
    },
    {
      "cell_type": "code",
      "execution_count": 2,
      "metadata": {
        "id": "Rm-6cOcAFCQk"
      },
      "outputs": [],
      "source": [
        "import numpy as np\n",
        "import pandas as pd\n",
        "import seaborn as sns\n",
        "import sklearn\n",
        "from sklearn.linear_model import LinearRegression\n",
        "from sklearn.linear_model import LogisticRegression\n",
        "from sklearn.datasets import make_classification\n",
        "!pip install category_encoders\n",
        "\n"
      ]
    },
    {
      "cell_type": "code",
      "source": [
        "!git clone https://github.com/IbrahimKhan77/my_data.git"
      ],
      "metadata": {
        "colab": {
          "base_uri": "https://localhost:8080/"
        },
        "id": "NQKEcIPlFXIT",
        "outputId": "7083181d-4c18-43ea-cf4b-5793ac766fe3"
      },
      "execution_count": 27,
      "outputs": [
        {
          "output_type": "stream",
          "name": "stdout",
          "text": [
            "fatal: destination path 'my_data' already exists and is not an empty directory.\n"
          ]
        }
      ]
    },
    {
      "cell_type": "code",
      "source": [
        "df = pd.read_excel(\"/content/my_data/Survey_Data.xlsx\")\n",
        "df"
      ],
      "metadata": {
        "colab": {
          "base_uri": "https://localhost:8080/",
          "height": 661
        },
        "id": "_dqX6o2qFbe-",
        "outputId": "70002f66-ac14-44cb-f724-934724f462b6"
      },
      "execution_count": 33,
      "outputs": [
        {
          "output_type": "execute_result",
          "data": {
            "text/plain": [
              "     Gender Mode_of_study Year_of_study Home_wi-fi_access   \\\n",
              "0      Male     Full-time             3                Yes   \n",
              "1      Male     Full-time             3                Yes   \n",
              "2    Female     Full-time             3                Yes   \n",
              "3      Male     Full-time             3                Yes   \n",
              "4    Female     Full-time             3                Yes   \n",
              "..      ...           ...           ...                ...   \n",
              "420  Female     Full-time             3                Yes   \n",
              "421    Male     Full-time             1                Yes   \n",
              "422  Female     Full-time             3                Yes   \n",
              "423  Female     Full-time             1                Yes   \n",
              "424    Male     Full-time             1                Yes   \n",
              "\n",
              "    home_desktop/laptop_access solely_for_your_use? Device_use_for_learning  \\\n",
              "0                           No                  NaN                       3   \n",
              "1                          Yes                  Yes                   3,2,1   \n",
              "2                          Yes                  Yes                    4 1    \n",
              "3                          Yes                  Yes                     231   \n",
              "4                          Yes                  Yes           (3) ,(1), (2)   \n",
              "..                         ...                  ...                     ...   \n",
              "420                        Yes                  Yes                       3   \n",
              "421                        Yes                  Yes                     123   \n",
              "422                        Yes                  Yes                 2, 1, 3   \n",
              "423                        Yes                   No                       3   \n",
              "424                        Yes                   No                     1,3   \n",
              "\n",
              "     Self_Digital_knowlwedge_and_skills_rating         Question 1  \\\n",
              "0                                            6              Agree   \n",
              "1                                            8              Agree   \n",
              "2                                            4     Somewhat agree   \n",
              "3                                            6     Somewhat agree   \n",
              "4                                            8            Neutral   \n",
              "..                                         ...                ...   \n",
              "420                                          4  Somewhat disagree   \n",
              "421                                          7  Somewhat disagree   \n",
              "422                                          8     Somewhat agree   \n",
              "423                                          6              Agree   \n",
              "424                                          6     Somewhat agree   \n",
              "\n",
              "            Question 2  ...        Question 19        Question 20  \\\n",
              "0                Agree  ...              Agree              Agree   \n",
              "1                Agree  ...              Agree              Agree   \n",
              "2    Somewhat disagree  ...            Neutral            Neutral   \n",
              "3                Agree  ...     Somewhat agree            Neutral   \n",
              "4    Strongly disagree  ...              Agree              Agree   \n",
              "..                 ...  ...                ...                ...   \n",
              "420  Somewhat disagree  ...     Somewhat agree  Somewhat disagree   \n",
              "421              Agree  ...            Neutral  Somewhat disagree   \n",
              "422     Somewhat agree  ...  Somewhat disagree            Neutral   \n",
              "423              Agree  ...              Agree     Somewhat agree   \n",
              "424     Somewhat agree  ...     Somewhat agree     Strongly agree   \n",
              "\n",
              "        Question 21        Question 22        Question 23     Question 24  \\\n",
              "0             Agree              Agree              Agree           Agree   \n",
              "1    Strongly agree              Agree              Agree         Neutral   \n",
              "2          Disagree            Neutral            Neutral           Agree   \n",
              "3    Somewhat agree              Agree              Agree           Agree   \n",
              "4    Strongly agree     Strongly agree     Strongly agree  Somewhat agree   \n",
              "..              ...                ...                ...             ...   \n",
              "420  Somewhat agree  Somewhat disagree              Agree           Agree   \n",
              "421           Agree     Strongly agree  Strongly disagree         Neutral   \n",
              "422           Agree     Somewhat agree              Agree        Disagree   \n",
              "423           Agree            Neutral           Disagree        Disagree   \n",
              "424  Somewhat agree     Somewhat agree     Somewhat agree         Neutral   \n",
              "\n",
              "           Question 25        Question 26        Question 27  \\\n",
              "0                Agree              Agree              Agree   \n",
              "1              Neutral            Neutral              Agree   \n",
              "2    Somewhat disagree              Agree  Somewhat disagree   \n",
              "3                Agree              Agree     Somewhat agree   \n",
              "4                Agree     Strongly agree     Somewhat agree   \n",
              "..                 ...                ...                ...   \n",
              "420     Somewhat agree            Neutral            Neutral   \n",
              "421     Somewhat agree  Strongly disagree     Somewhat agree   \n",
              "422     Somewhat agree  Strongly disagree  Somewhat disagree   \n",
              "423            Neutral     Somewhat agree              Agree   \n",
              "424     Somewhat agree            Neutral     Somewhat agree   \n",
              "\n",
              "           Question 28  \n",
              "0                Agree  \n",
              "1                Agree  \n",
              "2    Somewhat disagree  \n",
              "3                Agree  \n",
              "4       Somewhat agree  \n",
              "..                 ...  \n",
              "420     Somewhat agree  \n",
              "421     Somewhat agree  \n",
              "422           Disagree  \n",
              "423              Agree  \n",
              "424     Somewhat agree  \n",
              "\n",
              "[425 rows x 36 columns]"
            ],
            "text/html": [
              "\n",
              "  <div id=\"df-6309e41f-6663-4ba2-9e50-60a08d9eaf6e\">\n",
              "    <div class=\"colab-df-container\">\n",
              "      <div>\n",
              "<style scoped>\n",
              "    .dataframe tbody tr th:only-of-type {\n",
              "        vertical-align: middle;\n",
              "    }\n",
              "\n",
              "    .dataframe tbody tr th {\n",
              "        vertical-align: top;\n",
              "    }\n",
              "\n",
              "    .dataframe thead th {\n",
              "        text-align: right;\n",
              "    }\n",
              "</style>\n",
              "<table border=\"1\" class=\"dataframe\">\n",
              "  <thead>\n",
              "    <tr style=\"text-align: right;\">\n",
              "      <th></th>\n",
              "      <th>Gender</th>\n",
              "      <th>Mode_of_study</th>\n",
              "      <th>Year_of_study</th>\n",
              "      <th>Home_wi-fi_access</th>\n",
              "      <th>home_desktop/laptop_access</th>\n",
              "      <th>solely_for_your_use?</th>\n",
              "      <th>Device_use_for_learning</th>\n",
              "      <th>Self_Digital_knowlwedge_and_skills_rating</th>\n",
              "      <th>Question 1</th>\n",
              "      <th>Question 2</th>\n",
              "      <th>...</th>\n",
              "      <th>Question 19</th>\n",
              "      <th>Question 20</th>\n",
              "      <th>Question 21</th>\n",
              "      <th>Question 22</th>\n",
              "      <th>Question 23</th>\n",
              "      <th>Question 24</th>\n",
              "      <th>Question 25</th>\n",
              "      <th>Question 26</th>\n",
              "      <th>Question 27</th>\n",
              "      <th>Question 28</th>\n",
              "    </tr>\n",
              "  </thead>\n",
              "  <tbody>\n",
              "    <tr>\n",
              "      <th>0</th>\n",
              "      <td>Male</td>\n",
              "      <td>Full-time</td>\n",
              "      <td>3</td>\n",
              "      <td>Yes</td>\n",
              "      <td>No</td>\n",
              "      <td>NaN</td>\n",
              "      <td>3</td>\n",
              "      <td>6</td>\n",
              "      <td>Agree</td>\n",
              "      <td>Agree</td>\n",
              "      <td>...</td>\n",
              "      <td>Agree</td>\n",
              "      <td>Agree</td>\n",
              "      <td>Agree</td>\n",
              "      <td>Agree</td>\n",
              "      <td>Agree</td>\n",
              "      <td>Agree</td>\n",
              "      <td>Agree</td>\n",
              "      <td>Agree</td>\n",
              "      <td>Agree</td>\n",
              "      <td>Agree</td>\n",
              "    </tr>\n",
              "    <tr>\n",
              "      <th>1</th>\n",
              "      <td>Male</td>\n",
              "      <td>Full-time</td>\n",
              "      <td>3</td>\n",
              "      <td>Yes</td>\n",
              "      <td>Yes</td>\n",
              "      <td>Yes</td>\n",
              "      <td>3,2,1</td>\n",
              "      <td>8</td>\n",
              "      <td>Agree</td>\n",
              "      <td>Agree</td>\n",
              "      <td>...</td>\n",
              "      <td>Agree</td>\n",
              "      <td>Agree</td>\n",
              "      <td>Strongly agree</td>\n",
              "      <td>Agree</td>\n",
              "      <td>Agree</td>\n",
              "      <td>Neutral</td>\n",
              "      <td>Neutral</td>\n",
              "      <td>Neutral</td>\n",
              "      <td>Agree</td>\n",
              "      <td>Agree</td>\n",
              "    </tr>\n",
              "    <tr>\n",
              "      <th>2</th>\n",
              "      <td>Female</td>\n",
              "      <td>Full-time</td>\n",
              "      <td>3</td>\n",
              "      <td>Yes</td>\n",
              "      <td>Yes</td>\n",
              "      <td>Yes</td>\n",
              "      <td>4 1</td>\n",
              "      <td>4</td>\n",
              "      <td>Somewhat agree</td>\n",
              "      <td>Somewhat disagree</td>\n",
              "      <td>...</td>\n",
              "      <td>Neutral</td>\n",
              "      <td>Neutral</td>\n",
              "      <td>Disagree</td>\n",
              "      <td>Neutral</td>\n",
              "      <td>Neutral</td>\n",
              "      <td>Agree</td>\n",
              "      <td>Somewhat disagree</td>\n",
              "      <td>Agree</td>\n",
              "      <td>Somewhat disagree</td>\n",
              "      <td>Somewhat disagree</td>\n",
              "    </tr>\n",
              "    <tr>\n",
              "      <th>3</th>\n",
              "      <td>Male</td>\n",
              "      <td>Full-time</td>\n",
              "      <td>3</td>\n",
              "      <td>Yes</td>\n",
              "      <td>Yes</td>\n",
              "      <td>Yes</td>\n",
              "      <td>231</td>\n",
              "      <td>6</td>\n",
              "      <td>Somewhat agree</td>\n",
              "      <td>Agree</td>\n",
              "      <td>...</td>\n",
              "      <td>Somewhat agree</td>\n",
              "      <td>Neutral</td>\n",
              "      <td>Somewhat agree</td>\n",
              "      <td>Agree</td>\n",
              "      <td>Agree</td>\n",
              "      <td>Agree</td>\n",
              "      <td>Agree</td>\n",
              "      <td>Agree</td>\n",
              "      <td>Somewhat agree</td>\n",
              "      <td>Agree</td>\n",
              "    </tr>\n",
              "    <tr>\n",
              "      <th>4</th>\n",
              "      <td>Female</td>\n",
              "      <td>Full-time</td>\n",
              "      <td>3</td>\n",
              "      <td>Yes</td>\n",
              "      <td>Yes</td>\n",
              "      <td>Yes</td>\n",
              "      <td>(3) ,(1), (2)</td>\n",
              "      <td>8</td>\n",
              "      <td>Neutral</td>\n",
              "      <td>Strongly disagree</td>\n",
              "      <td>...</td>\n",
              "      <td>Agree</td>\n",
              "      <td>Agree</td>\n",
              "      <td>Strongly agree</td>\n",
              "      <td>Strongly agree</td>\n",
              "      <td>Strongly agree</td>\n",
              "      <td>Somewhat agree</td>\n",
              "      <td>Agree</td>\n",
              "      <td>Strongly agree</td>\n",
              "      <td>Somewhat agree</td>\n",
              "      <td>Somewhat agree</td>\n",
              "    </tr>\n",
              "    <tr>\n",
              "      <th>...</th>\n",
              "      <td>...</td>\n",
              "      <td>...</td>\n",
              "      <td>...</td>\n",
              "      <td>...</td>\n",
              "      <td>...</td>\n",
              "      <td>...</td>\n",
              "      <td>...</td>\n",
              "      <td>...</td>\n",
              "      <td>...</td>\n",
              "      <td>...</td>\n",
              "      <td>...</td>\n",
              "      <td>...</td>\n",
              "      <td>...</td>\n",
              "      <td>...</td>\n",
              "      <td>...</td>\n",
              "      <td>...</td>\n",
              "      <td>...</td>\n",
              "      <td>...</td>\n",
              "      <td>...</td>\n",
              "      <td>...</td>\n",
              "      <td>...</td>\n",
              "    </tr>\n",
              "    <tr>\n",
              "      <th>420</th>\n",
              "      <td>Female</td>\n",
              "      <td>Full-time</td>\n",
              "      <td>3</td>\n",
              "      <td>Yes</td>\n",
              "      <td>Yes</td>\n",
              "      <td>Yes</td>\n",
              "      <td>3</td>\n",
              "      <td>4</td>\n",
              "      <td>Somewhat disagree</td>\n",
              "      <td>Somewhat disagree</td>\n",
              "      <td>...</td>\n",
              "      <td>Somewhat agree</td>\n",
              "      <td>Somewhat disagree</td>\n",
              "      <td>Somewhat agree</td>\n",
              "      <td>Somewhat disagree</td>\n",
              "      <td>Agree</td>\n",
              "      <td>Agree</td>\n",
              "      <td>Somewhat agree</td>\n",
              "      <td>Neutral</td>\n",
              "      <td>Neutral</td>\n",
              "      <td>Somewhat agree</td>\n",
              "    </tr>\n",
              "    <tr>\n",
              "      <th>421</th>\n",
              "      <td>Male</td>\n",
              "      <td>Full-time</td>\n",
              "      <td>1</td>\n",
              "      <td>Yes</td>\n",
              "      <td>Yes</td>\n",
              "      <td>Yes</td>\n",
              "      <td>123</td>\n",
              "      <td>7</td>\n",
              "      <td>Somewhat disagree</td>\n",
              "      <td>Agree</td>\n",
              "      <td>...</td>\n",
              "      <td>Neutral</td>\n",
              "      <td>Somewhat disagree</td>\n",
              "      <td>Agree</td>\n",
              "      <td>Strongly agree</td>\n",
              "      <td>Strongly disagree</td>\n",
              "      <td>Neutral</td>\n",
              "      <td>Somewhat agree</td>\n",
              "      <td>Strongly disagree</td>\n",
              "      <td>Somewhat agree</td>\n",
              "      <td>Somewhat agree</td>\n",
              "    </tr>\n",
              "    <tr>\n",
              "      <th>422</th>\n",
              "      <td>Female</td>\n",
              "      <td>Full-time</td>\n",
              "      <td>3</td>\n",
              "      <td>Yes</td>\n",
              "      <td>Yes</td>\n",
              "      <td>Yes</td>\n",
              "      <td>2, 1, 3</td>\n",
              "      <td>8</td>\n",
              "      <td>Somewhat agree</td>\n",
              "      <td>Somewhat agree</td>\n",
              "      <td>...</td>\n",
              "      <td>Somewhat disagree</td>\n",
              "      <td>Neutral</td>\n",
              "      <td>Agree</td>\n",
              "      <td>Somewhat agree</td>\n",
              "      <td>Agree</td>\n",
              "      <td>Disagree</td>\n",
              "      <td>Somewhat agree</td>\n",
              "      <td>Strongly disagree</td>\n",
              "      <td>Somewhat disagree</td>\n",
              "      <td>Disagree</td>\n",
              "    </tr>\n",
              "    <tr>\n",
              "      <th>423</th>\n",
              "      <td>Female</td>\n",
              "      <td>Full-time</td>\n",
              "      <td>1</td>\n",
              "      <td>Yes</td>\n",
              "      <td>Yes</td>\n",
              "      <td>No</td>\n",
              "      <td>3</td>\n",
              "      <td>6</td>\n",
              "      <td>Agree</td>\n",
              "      <td>Agree</td>\n",
              "      <td>...</td>\n",
              "      <td>Agree</td>\n",
              "      <td>Somewhat agree</td>\n",
              "      <td>Agree</td>\n",
              "      <td>Neutral</td>\n",
              "      <td>Disagree</td>\n",
              "      <td>Disagree</td>\n",
              "      <td>Neutral</td>\n",
              "      <td>Somewhat agree</td>\n",
              "      <td>Agree</td>\n",
              "      <td>Agree</td>\n",
              "    </tr>\n",
              "    <tr>\n",
              "      <th>424</th>\n",
              "      <td>Male</td>\n",
              "      <td>Full-time</td>\n",
              "      <td>1</td>\n",
              "      <td>Yes</td>\n",
              "      <td>Yes</td>\n",
              "      <td>No</td>\n",
              "      <td>1,3</td>\n",
              "      <td>6</td>\n",
              "      <td>Somewhat agree</td>\n",
              "      <td>Somewhat agree</td>\n",
              "      <td>...</td>\n",
              "      <td>Somewhat agree</td>\n",
              "      <td>Strongly agree</td>\n",
              "      <td>Somewhat agree</td>\n",
              "      <td>Somewhat agree</td>\n",
              "      <td>Somewhat agree</td>\n",
              "      <td>Neutral</td>\n",
              "      <td>Somewhat agree</td>\n",
              "      <td>Neutral</td>\n",
              "      <td>Somewhat agree</td>\n",
              "      <td>Somewhat agree</td>\n",
              "    </tr>\n",
              "  </tbody>\n",
              "</table>\n",
              "<p>425 rows × 36 columns</p>\n",
              "</div>\n",
              "      <button class=\"colab-df-convert\" onclick=\"convertToInteractive('df-6309e41f-6663-4ba2-9e50-60a08d9eaf6e')\"\n",
              "              title=\"Convert this dataframe to an interactive table.\"\n",
              "              style=\"display:none;\">\n",
              "        \n",
              "  <svg xmlns=\"http://www.w3.org/2000/svg\" height=\"24px\"viewBox=\"0 0 24 24\"\n",
              "       width=\"24px\">\n",
              "    <path d=\"M0 0h24v24H0V0z\" fill=\"none\"/>\n",
              "    <path d=\"M18.56 5.44l.94 2.06.94-2.06 2.06-.94-2.06-.94-.94-2.06-.94 2.06-2.06.94zm-11 1L8.5 8.5l.94-2.06 2.06-.94-2.06-.94L8.5 2.5l-.94 2.06-2.06.94zm10 10l.94 2.06.94-2.06 2.06-.94-2.06-.94-.94-2.06-.94 2.06-2.06.94z\"/><path d=\"M17.41 7.96l-1.37-1.37c-.4-.4-.92-.59-1.43-.59-.52 0-1.04.2-1.43.59L10.3 9.45l-7.72 7.72c-.78.78-.78 2.05 0 2.83L4 21.41c.39.39.9.59 1.41.59.51 0 1.02-.2 1.41-.59l7.78-7.78 2.81-2.81c.8-.78.8-2.07 0-2.86zM5.41 20L4 18.59l7.72-7.72 1.47 1.35L5.41 20z\"/>\n",
              "  </svg>\n",
              "      </button>\n",
              "      \n",
              "  <style>\n",
              "    .colab-df-container {\n",
              "      display:flex;\n",
              "      flex-wrap:wrap;\n",
              "      gap: 12px;\n",
              "    }\n",
              "\n",
              "    .colab-df-convert {\n",
              "      background-color: #E8F0FE;\n",
              "      border: none;\n",
              "      border-radius: 50%;\n",
              "      cursor: pointer;\n",
              "      display: none;\n",
              "      fill: #1967D2;\n",
              "      height: 32px;\n",
              "      padding: 0 0 0 0;\n",
              "      width: 32px;\n",
              "    }\n",
              "\n",
              "    .colab-df-convert:hover {\n",
              "      background-color: #E2EBFA;\n",
              "      box-shadow: 0px 1px 2px rgba(60, 64, 67, 0.3), 0px 1px 3px 1px rgba(60, 64, 67, 0.15);\n",
              "      fill: #174EA6;\n",
              "    }\n",
              "\n",
              "    [theme=dark] .colab-df-convert {\n",
              "      background-color: #3B4455;\n",
              "      fill: #D2E3FC;\n",
              "    }\n",
              "\n",
              "    [theme=dark] .colab-df-convert:hover {\n",
              "      background-color: #434B5C;\n",
              "      box-shadow: 0px 1px 3px 1px rgba(0, 0, 0, 0.15);\n",
              "      filter: drop-shadow(0px 1px 2px rgba(0, 0, 0, 0.3));\n",
              "      fill: #FFFFFF;\n",
              "    }\n",
              "  </style>\n",
              "\n",
              "      <script>\n",
              "        const buttonEl =\n",
              "          document.querySelector('#df-6309e41f-6663-4ba2-9e50-60a08d9eaf6e button.colab-df-convert');\n",
              "        buttonEl.style.display =\n",
              "          google.colab.kernel.accessAllowed ? 'block' : 'none';\n",
              "\n",
              "        async function convertToInteractive(key) {\n",
              "          const element = document.querySelector('#df-6309e41f-6663-4ba2-9e50-60a08d9eaf6e');\n",
              "          const dataTable =\n",
              "            await google.colab.kernel.invokeFunction('convertToInteractive',\n",
              "                                                     [key], {});\n",
              "          if (!dataTable) return;\n",
              "\n",
              "          const docLinkHtml = 'Like what you see? Visit the ' +\n",
              "            '<a target=\"_blank\" href=https://colab.research.google.com/notebooks/data_table.ipynb>data table notebook</a>'\n",
              "            + ' to learn more about interactive tables.';\n",
              "          element.innerHTML = '';\n",
              "          dataTable['output_type'] = 'display_data';\n",
              "          await google.colab.output.renderOutput(dataTable, element);\n",
              "          const docLink = document.createElement('div');\n",
              "          docLink.innerHTML = docLinkHtml;\n",
              "          element.appendChild(docLink);\n",
              "        }\n",
              "      </script>\n",
              "    </div>\n",
              "  </div>\n",
              "  "
            ]
          },
          "metadata": {},
          "execution_count": 33
        }
      ]
    },
    {
      "cell_type": "code",
      "source": [
        "df['Question 28'].value_counts(normalize=True)"
      ],
      "metadata": {
        "colab": {
          "base_uri": "https://localhost:8080/"
        },
        "id": "NQKOcKU1GG44",
        "outputId": "eca371c1-bb15-4b36-ae42-506d9d6b82a5"
      },
      "execution_count": null,
      "outputs": [
        {
          "output_type": "execute_result",
          "data": {
            "text/plain": [
              "Neutral              0.235294\n",
              "Somewhat agree       0.200000\n",
              "Agree                0.190588\n",
              "Somewhat disagree    0.141176\n",
              "Strongly disagree    0.101176\n",
              "Disagree             0.084706\n",
              "Strongly agree       0.047059\n",
              "Name: Question 28, dtype: float64"
            ]
          },
          "metadata": {},
          "execution_count": 4
        }
      ]
    },
    {
      "cell_type": "markdown",
      "source": [
        "By above , we could say that 23% students are neautral and 43% agree, rest disagree\n"
      ],
      "metadata": {
        "id": "g4tihXJAGKea"
      }
    },
    {
      "cell_type": "code",
      "source": [
        "df['Question 28'].value_counts().plot(kind=\"bar\")"
      ],
      "metadata": {
        "colab": {
          "base_uri": "https://localhost:8080/",
          "height": 371
        },
        "id": "VNv_1-4nGU6w",
        "outputId": "9c0a68f6-0820-4457-f3fb-270a62e99128"
      },
      "execution_count": null,
      "outputs": [
        {
          "output_type": "execute_result",
          "data": {
            "text/plain": [
              "<matplotlib.axes._subplots.AxesSubplot at 0x7f5f3926a410>"
            ]
          },
          "metadata": {},
          "execution_count": 5
        },
        {
          "output_type": "display_data",
          "data": {
            "text/plain": [
              "<Figure size 432x288 with 1 Axes>"
            ],
            "image/png": "[encoded data removed]"
          },
          "metadata": {
            "needs_background": "light"
          }
        }
      ]
    },
    {
      "cell_type": "code",
      "source": [
        "df['Question 27'].value_counts().plot(kind=\"bar\")"
      ],
      "metadata": {
        "colab": {
          "base_uri": "https://localhost:8080/",
          "height": 371
        },
        "id": "VhSi1wajGm-A",
        "outputId": "84b57948-63aa-4f74-9110-9a8b65e0fe89"
      },
      "execution_count": null,
      "outputs": [
        {
          "output_type": "execute_result",
          "data": {
            "text/plain": [
              "<matplotlib.axes._subplots.AxesSubplot at 0x7fceb77a0090>"
            ]
          },
          "metadata": {},
          "execution_count": 10
        },
        {
          "output_type": "display_data",
          "data": {
            "text/plain": [
              "<Figure size 432x288 with 1 Axes>"
            ],
            "image/png": "[encoded data removed]"
          },
          "metadata": {
            "needs_background": "light"
          }
        }
      ]
    },
    {
      "cell_type": "code",
      "source": [
        "df['Question 10'].value_counts().plot(kind=\"bar\")"
      ],
      "metadata": {
        "colab": {
          "base_uri": "https://localhost:8080/",
          "height": 371
        },
        "id": "j8iukzbgITWz",
        "outputId": "42e89225-865f-423a-a137-f16ca84339dd"
      },
      "execution_count": null,
      "outputs": [
        {
          "output_type": "execute_result",
          "data": {
            "text/plain": [
              "<matplotlib.axes._subplots.AxesSubplot at 0x7fceb7e0a510>"
            ]
          },
          "metadata": {},
          "execution_count": 20
        },
        {
          "output_type": "display_data",
          "data": {
            "text/plain": [
              "<Figure size 432x288 with 1 Axes>"
            ],
            "image/png": "[encoded data removed]"
          },
          "metadata": {
            "needs_background": "light"
          }
        }
      ]
    },
    {
      "cell_type": "code",
      "source": [
        "df['Year_of_study'].value_counts().plot(kind=\"bar\")"
      ],
      "metadata": {
        "colab": {
          "base_uri": "https://localhost:8080/",
          "height": 306
        },
        "id": "AtUEaKj5GvKG",
        "outputId": "e3f4cb53-235e-463c-d732-e1453fecdcd3"
      },
      "execution_count": null,
      "outputs": [
        {
          "output_type": "execute_result",
          "data": {
            "text/plain": [
              "<matplotlib.axes._subplots.AxesSubplot at 0x7fceb741f1d0>"
            ]
          },
          "metadata": {},
          "execution_count": 14
        },
        {
          "output_type": "display_data",
          "data": {
            "text/plain": [
              "<Figure size 432x288 with 1 Axes>"
            ],
            "image/png": "[encoded data removed]"
          },
          "metadata": {
            "needs_background": "light"
          }
        }
      ]
    },
    {
      "cell_type": "code",
      "source": [
        "df['Home_wi-fi_access '].value_counts().plot(kind=\"bar\")"
      ],
      "metadata": {
        "colab": {
          "base_uri": "https://localhost:8080/",
          "height": 289
        },
        "id": "J7P3CX-PHTt3",
        "outputId": "678cdb38-3730-4411-a795-2ecad2549295"
      },
      "execution_count": null,
      "outputs": [
        {
          "output_type": "execute_result",
          "data": {
            "text/plain": [
              "<matplotlib.axes._subplots.AxesSubplot at 0x7fceb7322610>"
            ]
          },
          "metadata": {},
          "execution_count": 16
        },
        {
          "output_type": "display_data",
          "data": {
            "text/plain": [
              "<Figure size 432x288 with 1 Axes>"
            ],
            "image/png": "[encoded data removed]"
          },
          "metadata": {
            "needs_background": "light"
          }
        }
      ]
    },
    {
      "cell_type": "code",
      "source": [
        "df['home_desktop/laptop_access'].value_counts().plot(kind=\"bar\")"
      ],
      "metadata": {
        "colab": {
          "base_uri": "https://localhost:8080/",
          "height": 288
        },
        "id": "9CCjNvFQH6Sd",
        "outputId": "08742c5e-1e54-4228-8ddc-f6a6eb1a4c75"
      },
      "execution_count": null,
      "outputs": [
        {
          "output_type": "execute_result",
          "data": {
            "text/plain": [
              "<matplotlib.axes._subplots.AxesSubplot at 0x7fceb731d990>"
            ]
          },
          "metadata": {},
          "execution_count": 19
        },
        {
          "output_type": "display_data",
          "data": {
            "text/plain": [
              "<Figure size 432x288 with 1 Axes>"
            ],
            "image/png": "[encoded data removed]"
          },
          "metadata": {
            "needs_background": "light"
          }
        }
      ]
    },
    {
      "cell_type": "code",
      "source": [
        "df['Question 11'].value_counts().plot(kind=\"bar\")"
      ],
      "metadata": {
        "colab": {
          "base_uri": "https://localhost:8080/",
          "height": 371
        },
        "id": "aIx9ZUR-IIII",
        "outputId": "3437a0b9-1b29-4ad0-962c-93a56c75f24b"
      },
      "execution_count": null,
      "outputs": [
        {
          "output_type": "execute_result",
          "data": {
            "text/plain": [
              "<matplotlib.axes._subplots.AxesSubplot at 0x7fceb7089c90>"
            ]
          },
          "metadata": {},
          "execution_count": 25
        },
        {
          "output_type": "display_data",
          "data": {
            "text/plain": [
              "<Figure size 432x288 with 1 Axes>"
            ],
            "image/png": "[encoded data removed]"
          },
          "metadata": {
            "needs_background": "light"
          }
        }
      ]
    },
    {
      "cell_type": "markdown",
      "source": [
        "**Bi-variate Data-viz**"
      ],
      "metadata": {
        "id": "3RJRLACmKYSx"
      }
    },
    {
      "cell_type": "code",
      "source": [
        "sns.set(rc = {'figure.figsize':(15,8)})\n",
        "sns.histplot(x='Question 28' , y='Question 10' , data=df)"
      ],
      "metadata": {
        "colab": {
          "base_uri": "https://localhost:8080/",
          "height": 519
        },
        "id": "9eZ3Ob3hKbY9",
        "outputId": "63788146-a166-4bae-993d-4ed31fc3503c"
      },
      "execution_count": null,
      "outputs": [
        {
          "output_type": "execute_result",
          "data": {
            "text/plain": [
              "<matplotlib.axes._subplots.AxesSubplot at 0x7fcea9a0f6d0>"
            ]
          },
          "metadata": {},
          "execution_count": 50
        },
        {
          "output_type": "display_data",
          "data": {
            "text/plain": [
              "<Figure size 1080x576 with 1 Axes>"
            ],
            "image/png": "[encoded data removed]"
          },
          "metadata": {}
        }
      ]
    },
    {
      "cell_type": "code",
      "source": [
        "df.info()"
      ],
      "metadata": {
        "id": "B9WmfIppyIyt",
        "outputId": "a011eb17-3d3a-4652-daee-31f4797d9407",
        "colab": {
          "base_uri": "https://localhost:8080/"
        }
      },
      "execution_count": 34,
      "outputs": [
        {
          "output_type": "stream",
          "name": "stdout",
          "text": [
            "<class 'pandas.core.frame.DataFrame'>\n",
            "RangeIndex: 425 entries, 0 to 424\n",
            "Data columns (total 36 columns):\n",
            " #   Column                                     Non-Null Count  Dtype \n",
            "---  ------                                     --------------  ----- \n",
            " 0   Gender                                     425 non-null    object\n",
            " 1   Mode_of_study                              425 non-null    object\n",
            " 2   Year_of_study                              425 non-null    object\n",
            " 3   Home_wi-fi_access                          425 non-null    object\n",
            " 4   home_desktop/laptop_access                 425 non-null    object\n",
            " 5   solely_for_your_use?                       387 non-null    object\n",
            " 6   Device_use_for_learning                    425 non-null    object\n",
            " 7   Self_Digital_knowlwedge_and_skills_rating  425 non-null    int64 \n",
            " 8   Question 1                                 425 non-null    object\n",
            " 9   Question 2                                 425 non-null    object\n",
            " 10  Question 3                                 425 non-null    object\n",
            " 11  Question 4                                 425 non-null    object\n",
            " 12  Question 5                                 425 non-null    object\n",
            " 13  Question 6                                 425 non-null    object\n",
            " 14  Question 7                                 425 non-null    object\n",
            " 15  Question 8                                 425 non-null    object\n",
            " 16  Question 9                                 425 non-null    object\n",
            " 17  Question 10                                425 non-null    object\n",
            " 18  Question 11                                425 non-null    object\n",
            " 19  Question 12                                425 non-null    object\n",
            " 20  Question 13                                425 non-null    object\n",
            " 21  Question 14                                425 non-null    object\n",
            " 22  Question 15                                425 non-null    object\n",
            " 23  Question 16                                425 non-null    object\n",
            " 24  Question 17                                425 non-null    object\n",
            " 25  Question 18                                425 non-null    object\n",
            " 26  Question 19                                425 non-null    object\n",
            " 27  Question 20                                425 non-null    object\n",
            " 28  Question 21                                425 non-null    object\n",
            " 29  Question 22                                425 non-null    object\n",
            " 30  Question 23                                425 non-null    object\n",
            " 31  Question 24                                425 non-null    object\n",
            " 32  Question 25                                425 non-null    object\n",
            " 33  Question 26                                425 non-null    object\n",
            " 34  Question 27                                425 non-null    object\n",
            " 35  Question 28                                425 non-null    object\n",
            "dtypes: int64(1), object(35)\n",
            "memory usage: 119.7+ KB\n"
          ]
        }
      ]
    },
    {
      "cell_type": "markdown",
      "source": [
        "We see that - \n",
        "\n",
        "1.   Categorical columns with Questions needs to be converted to Numerical\n",
        "2.   Only one column \"solely_for_your_use?\" is having missing values and rest all the columns have complete values, therefore missing values needs to be imputed \n",
        "\n",
        "\n",
        "**1 - Converting Categorical column into Numerical using Ordinal Encoding (Scikit learn)**\n"
      ],
      "metadata": {
        "id": "qoMy4oWY6A2j"
      }
    },
    {
      "cell_type": "code",
      "source": [
        "satisfaction_dict = {'Strongly agree': 1,'Agree': 2,'Somewhat agree': 3,'Neutral': 4,\"Somewhat disagree\":5, 'Disagree': 6,\"Strongly disagree\":7}\n",
        "satisfaction_dict\n",
        "\n",
        "df[\"Question_1\"] = df['Question 1'].map(satisfaction_dict)\n",
        "df[\"Question_2\"] = df['Question 2'].map(satisfaction_dict)\n",
        "df[\"Question_3\"] = df['Question 3'].map(satisfaction_dict)\n",
        "df[\"Question_4\"] = df['Question 4'].map(satisfaction_dict)\n",
        "df[\"Question_5\"] = df['Question 5'].map(satisfaction_dict)\n",
        "df[\"Question_6\"] = df['Question 6'].map(satisfaction_dict)\n",
        "df[\"Question_7\"] = df['Question 7'].map(satisfaction_dict)\n",
        "df[\"Question_8\"] = df['Question 8'].map(satisfaction_dict)\n",
        "df[\"Question_9\"] = df['Question 9'].map(satisfaction_dict)\n",
        "df[\"Question_10\"] = df['Question 10'].map(satisfaction_dict)\n",
        "df[\"Question_11\"] = df['Question 11'].map(satisfaction_dict)\n",
        "df[\"Question_12\"] = df['Question 12'].map(satisfaction_dict)\n",
        "df[\"Question_13\"] = df['Question 13'].map(satisfaction_dict)\n",
        "df[\"Question_14\"] = df['Question 14'].map(satisfaction_dict)\n",
        "df[\"Question_15\"] = df['Question 15'].map(satisfaction_dict)\n",
        "df[\"Question_16\"] = df['Question 16'].map(satisfaction_dict)\n",
        "df[\"Question_17\"] = df['Question 17'].map(satisfaction_dict)\n",
        "df[\"Question_18\"] = df['Question 18'].map(satisfaction_dict)\n",
        "df[\"Question_19\"] = df['Question 19'].map(satisfaction_dict)\n",
        "df[\"Question_20\"] = df['Question 20'].map(satisfaction_dict)\n",
        "df[\"Question_21\"] = df['Question 21'].map(satisfaction_dict)\n",
        "df[\"Question_22\"] = df['Question 22'].map(satisfaction_dict)\n",
        "df[\"Question_23\"] = df['Question 23'].map(satisfaction_dict)\n",
        "df[\"Question_24\"] = df['Question 24'].map(satisfaction_dict)\n",
        "df[\"Question_25\"] = df['Question 25'].map(satisfaction_dict)\n",
        "df[\"Question_26\"] = df['Question 26'].map(satisfaction_dict)\n",
        "df[\"Question_27\"] = df['Question 27'].map(satisfaction_dict)"
      ],
      "metadata": {
        "id": "cC_CFCeawm4T"
      },
      "execution_count": 45,
      "outputs": []
    },
    {
      "cell_type": "markdown",
      "source": [
        "**2 - Checking unique values in the column having missing values and imputing them with the Mode**"
      ],
      "metadata": {
        "id": "WXY-b0sO6xQo"
      }
    },
    {
      "cell_type": "code",
      "source": [
        "df['solely_for_your_use?'].value_counts(normalize=True)"
      ],
      "metadata": {
        "colab": {
          "base_uri": "https://localhost:8080/"
        },
        "id": "cwyJZe5r5bpB",
        "outputId": "148498a2-685b-42d8-c724-ec2a6a5e426a"
      },
      "execution_count": 46,
      "outputs": [
        {
          "output_type": "execute_result",
          "data": {
            "text/plain": [
              "Yes    0.803618\n",
              "No     0.196382\n",
              "Name: solely_for_your_use?, dtype: float64"
            ]
          },
          "metadata": {},
          "execution_count": 46
        }
      ]
    },
    {
      "cell_type": "code",
      "source": [
        "most_frequent_category = df[\"solely_for_your_use?\"].mode()[0]\n",
        "    \n",
        "df[\"solely_for_your_use?_Imp\"] = df[\"solely_for_your_use?\"]\n",
        "df[\"solely_for_your_use?_Imp\"].fillna(most_frequent_category, inplace=True)"
      ],
      "metadata": {
        "id": "Pp2HKzj4578L"
      },
      "execution_count": 47,
      "outputs": []
    },
    {
      "cell_type": "markdown",
      "source": [
        "**Displaying the dataset again after the changes**"
      ],
      "metadata": {
        "id": "H5hXNWUKAmcf"
      }
    },
    {
      "cell_type": "code",
      "source": [
        "df.info()\n",
        "df"
      ],
      "metadata": {
        "colab": {
          "base_uri": "https://localhost:8080/",
          "height": 1000
        },
        "id": "FXWTZzj4_LLZ",
        "outputId": "1d86b841-f86c-4e28-e40f-010acb6c4e13"
      },
      "execution_count": 49,
      "outputs": [
        {
          "output_type": "stream",
          "name": "stdout",
          "text": [
            "<class 'pandas.core.frame.DataFrame'>\n",
            "RangeIndex: 425 entries, 0 to 424\n",
            "Data columns (total 64 columns):\n",
            " #   Column                                     Non-Null Count  Dtype \n",
            "---  ------                                     --------------  ----- \n",
            " 0   Gender                                     425 non-null    object\n",
            " 1   Mode_of_study                              425 non-null    object\n",
            " 2   Year_of_study                              425 non-null    object\n",
            " 3   Home_wi-fi_access                          425 non-null    object\n",
            " 4   home_desktop/laptop_access                 425 non-null    object\n",
            " 5   solely_for_your_use?                       387 non-null    object\n",
            " 6   Device_use_for_learning                    425 non-null    object\n",
            " 7   Self_Digital_knowlwedge_and_skills_rating  425 non-null    int64 \n",
            " 8   Question 1                                 425 non-null    object\n",
            " 9   Question 2                                 425 non-null    object\n",
            " 10  Question 3                                 425 non-null    object\n",
            " 11  Question 4                                 425 non-null    object\n",
            " 12  Question 5                                 425 non-null    object\n",
            " 13  Question 6                                 425 non-null    object\n",
            " 14  Question 7                                 425 non-null    object\n",
            " 15  Question 8                                 425 non-null    object\n",
            " 16  Question 9                                 425 non-null    object\n",
            " 17  Question 10                                425 non-null    object\n",
            " 18  Question 11                                425 non-null    object\n",
            " 19  Question 12                                425 non-null    object\n",
            " 20  Question 13                                425 non-null    object\n",
            " 21  Question 14                                425 non-null    object\n",
            " 22  Question 15                                425 non-null    object\n",
            " 23  Question 16                                425 non-null    object\n",
            " 24  Question 17                                425 non-null    object\n",
            " 25  Question 18                                425 non-null    object\n",
            " 26  Question 19                                425 non-null    object\n",
            " 27  Question 20                                425 non-null    object\n",
            " 28  Question 21                                425 non-null    object\n",
            " 29  Question 22                                425 non-null    object\n",
            " 30  Question 23                                425 non-null    object\n",
            " 31  Question 24                                425 non-null    object\n",
            " 32  Question 25                                425 non-null    object\n",
            " 33  Question 26                                425 non-null    object\n",
            " 34  Question 27                                425 non-null    object\n",
            " 35  Question 28                                425 non-null    object\n",
            " 36  Question_1                                 425 non-null    int64 \n",
            " 37  Question_2                                 425 non-null    int64 \n",
            " 38  Question_3                                 425 non-null    int64 \n",
            " 39  Question_4                                 425 non-null    int64 \n",
            " 40  Question_5                                 425 non-null    int64 \n",
            " 41  Question_6                                 425 non-null    int64 \n",
            " 42  Question_7                                 425 non-null    int64 \n",
            " 43  Question_8                                 425 non-null    int64 \n",
            " 44  Question_9                                 425 non-null    int64 \n",
            " 45  Question_10                                425 non-null    int64 \n",
            " 46  Question_11                                425 non-null    int64 \n",
            " 47  Question_12                                425 non-null    int64 \n",
            " 48  Question_13                                425 non-null    int64 \n",
            " 49  Question_14                                425 non-null    int64 \n",
            " 50  Question_15                                425 non-null    int64 \n",
            " 51  Question_16                                425 non-null    int64 \n",
            " 52  Question_17                                425 non-null    int64 \n",
            " 53  Question_18                                425 non-null    int64 \n",
            " 54  Question_19                                425 non-null    int64 \n",
            " 55  Question_20                                425 non-null    int64 \n",
            " 56  Question_21                                425 non-null    int64 \n",
            " 57  Question_22                                425 non-null    int64 \n",
            " 58  Question_23                                425 non-null    int64 \n",
            " 59  Question_24                                425 non-null    int64 \n",
            " 60  Question_25                                425 non-null    int64 \n",
            " 61  Question_26                                425 non-null    int64 \n",
            " 62  Question_27                                425 non-null    int64 \n",
            " 63  solely_for_your_use?_Imp                   425 non-null    object\n",
            "dtypes: int64(28), object(36)\n",
            "memory usage: 212.6+ KB\n"
          ]
        },
        {
          "output_type": "execute_result",
          "data": {
            "text/plain": [
              "     Gender Mode_of_study Year_of_study Home_wi-fi_access   \\\n",
              "0      Male     Full-time             3                Yes   \n",
              "1      Male     Full-time             3                Yes   \n",
              "2    Female     Full-time             3                Yes   \n",
              "3      Male     Full-time             3                Yes   \n",
              "4    Female     Full-time             3                Yes   \n",
              "..      ...           ...           ...                ...   \n",
              "420  Female     Full-time             3                Yes   \n",
              "421    Male     Full-time             1                Yes   \n",
              "422  Female     Full-time             3                Yes   \n",
              "423  Female     Full-time             1                Yes   \n",
              "424    Male     Full-time             1                Yes   \n",
              "\n",
              "    home_desktop/laptop_access solely_for_your_use? Device_use_for_learning  \\\n",
              "0                           No                  NaN                       3   \n",
              "1                          Yes                  Yes                   3,2,1   \n",
              "2                          Yes                  Yes                    4 1    \n",
              "3                          Yes                  Yes                     231   \n",
              "4                          Yes                  Yes           (3) ,(1), (2)   \n",
              "..                         ...                  ...                     ...   \n",
              "420                        Yes                  Yes                       3   \n",
              "421                        Yes                  Yes                     123   \n",
              "422                        Yes                  Yes                 2, 1, 3   \n",
              "423                        Yes                   No                       3   \n",
              "424                        Yes                   No                     1,3   \n",
              "\n",
              "     Self_Digital_knowlwedge_and_skills_rating         Question 1  \\\n",
              "0                                            6              Agree   \n",
              "1                                            8              Agree   \n",
              "2                                            4     Somewhat agree   \n",
              "3                                            6     Somewhat agree   \n",
              "4                                            8            Neutral   \n",
              "..                                         ...                ...   \n",
              "420                                          4  Somewhat disagree   \n",
              "421                                          7  Somewhat disagree   \n",
              "422                                          8     Somewhat agree   \n",
              "423                                          6              Agree   \n",
              "424                                          6     Somewhat agree   \n",
              "\n",
              "            Question 2  ... Question_19 Question_20 Question_21 Question_22  \\\n",
              "0                Agree  ...           2           2           2           2   \n",
              "1                Agree  ...           2           2           1           2   \n",
              "2    Somewhat disagree  ...           4           4           6           4   \n",
              "3                Agree  ...           3           4           3           2   \n",
              "4    Strongly disagree  ...           2           2           1           1   \n",
              "..                 ...  ...         ...         ...         ...         ...   \n",
              "420  Somewhat disagree  ...           3           5           3           5   \n",
              "421              Agree  ...           4           5           2           1   \n",
              "422     Somewhat agree  ...           5           4           2           3   \n",
              "423              Agree  ...           2           3           2           4   \n",
              "424     Somewhat agree  ...           3           1           3           3   \n",
              "\n",
              "    Question_23 Question_24 Question_25 Question_26 Question_27  \\\n",
              "0             2           2           2           2           2   \n",
              "1             2           4           4           4           2   \n",
              "2             4           2           5           2           5   \n",
              "3             2           2           2           2           3   \n",
              "4             1           3           2           1           3   \n",
              "..          ...         ...         ...         ...         ...   \n",
              "420           2           2           3           4           4   \n",
              "421           7           4           3           7           3   \n",
              "422           2           6           3           7           5   \n",
              "423           6           6           4           3           2   \n",
              "424           3           4           3           4           3   \n",
              "\n",
              "    solely_for_your_use?_Imp  \n",
              "0                        Yes  \n",
              "1                        Yes  \n",
              "2                        Yes  \n",
              "3                        Yes  \n",
              "4                        Yes  \n",
              "..                       ...  \n",
              "420                      Yes  \n",
              "421                      Yes  \n",
              "422                      Yes  \n",
              "423                       No  \n",
              "424                       No  \n",
              "\n",
              "[425 rows x 64 columns]"
            ],
            "text/html": [
              "\n",
              "  <div id=\"df-26c09e18-e88a-489e-b269-cd96ae4b1004\">\n",
              "    <div class=\"colab-df-container\">\n",
              "      <div>\n",
              "<style scoped>\n",
              "    .dataframe tbody tr th:only-of-type {\n",
              "        vertical-align: middle;\n",
              "    }\n",
              "\n",
              "    .dataframe tbody tr th {\n",
              "        vertical-align: top;\n",
              "    }\n",
              "\n",
              "    .dataframe thead th {\n",
              "        text-align: right;\n",
              "    }\n",
              "</style>\n",
              "<table border=\"1\" class=\"dataframe\">\n",
              "  <thead>\n",
              "    <tr style=\"text-align: right;\">\n",
              "      <th></th>\n",
              "      <th>Gender</th>\n",
              "      <th>Mode_of_study</th>\n",
              "      <th>Year_of_study</th>\n",
              "      <th>Home_wi-fi_access</th>\n",
              "      <th>home_desktop/laptop_access</th>\n",
              "      <th>solely_for_your_use?</th>\n",
              "      <th>Device_use_for_learning</th>\n",
              "      <th>Self_Digital_knowlwedge_and_skills_rating</th>\n",
              "      <th>Question 1</th>\n",
              "      <th>Question 2</th>\n",
              "      <th>...</th>\n",
              "      <th>Question_19</th>\n",
              "      <th>Question_20</th>\n",
              "      <th>Question_21</th>\n",
              "      <th>Question_22</th>\n",
              "      <th>Question_23</th>\n",
              "      <th>Question_24</th>\n",
              "      <th>Question_25</th>\n",
              "      <th>Question_26</th>\n",
              "      <th>Question_27</th>\n",
              "      <th>solely_for_your_use?_Imp</th>\n",
              "    </tr>\n",
              "  </thead>\n",
              "  <tbody>\n",
              "    <tr>\n",
              "      <th>0</th>\n",
              "      <td>Male</td>\n",
              "      <td>Full-time</td>\n",
              "      <td>3</td>\n",
              "      <td>Yes</td>\n",
              "      <td>No</td>\n",
              "      <td>NaN</td>\n",
              "      <td>3</td>\n",
              "      <td>6</td>\n",
              "      <td>Agree</td>\n",
              "      <td>Agree</td>\n",
              "      <td>...</td>\n",
              "      <td>2</td>\n",
              "      <td>2</td>\n",
              "      <td>2</td>\n",
              "      <td>2</td>\n",
              "      <td>2</td>\n",
              "      <td>2</td>\n",
              "      <td>2</td>\n",
              "      <td>2</td>\n",
              "      <td>2</td>\n",
              "      <td>Yes</td>\n",
              "    </tr>\n",
              "    <tr>\n",
              "      <th>1</th>\n",
              "      <td>Male</td>\n",
              "      <td>Full-time</td>\n",
              "      <td>3</td>\n",
              "      <td>Yes</td>\n",
              "      <td>Yes</td>\n",
              "      <td>Yes</td>\n",
              "      <td>3,2,1</td>\n",
              "      <td>8</td>\n",
              "      <td>Agree</td>\n",
              "      <td>Agree</td>\n",
              "      <td>...</td>\n",
              "      <td>2</td>\n",
              "      <td>2</td>\n",
              "      <td>1</td>\n",
              "      <td>2</td>\n",
              "      <td>2</td>\n",
              "      <td>4</td>\n",
              "      <td>4</td>\n",
              "      <td>4</td>\n",
              "      <td>2</td>\n",
              "      <td>Yes</td>\n",
              "    </tr>\n",
              "    <tr>\n",
              "      <th>2</th>\n",
              "      <td>Female</td>\n",
              "      <td>Full-time</td>\n",
              "      <td>3</td>\n",
              "      <td>Yes</td>\n",
              "      <td>Yes</td>\n",
              "      <td>Yes</td>\n",
              "      <td>4 1</td>\n",
              "      <td>4</td>\n",
              "      <td>Somewhat agree</td>\n",
              "      <td>Somewhat disagree</td>\n",
              "      <td>...</td>\n",
              "      <td>4</td>\n",
              "      <td>4</td>\n",
              "      <td>6</td>\n",
              "      <td>4</td>\n",
              "      <td>4</td>\n",
              "      <td>2</td>\n",
              "      <td>5</td>\n",
              "      <td>2</td>\n",
              "      <td>5</td>\n",
              "      <td>Yes</td>\n",
              "    </tr>\n",
              "    <tr>\n",
              "      <th>3</th>\n",
              "      <td>Male</td>\n",
              "      <td>Full-time</td>\n",
              "      <td>3</td>\n",
              "      <td>Yes</td>\n",
              "      <td>Yes</td>\n",
              "      <td>Yes</td>\n",
              "      <td>231</td>\n",
              "      <td>6</td>\n",
              "      <td>Somewhat agree</td>\n",
              "      <td>Agree</td>\n",
              "      <td>...</td>\n",
              "      <td>3</td>\n",
              "      <td>4</td>\n",
              "      <td>3</td>\n",
              "      <td>2</td>\n",
              "      <td>2</td>\n",
              "      <td>2</td>\n",
              "      <td>2</td>\n",
              "      <td>2</td>\n",
              "      <td>3</td>\n",
              "      <td>Yes</td>\n",
              "    </tr>\n",
              "    <tr>\n",
              "      <th>4</th>\n",
              "      <td>Female</td>\n",
              "      <td>Full-time</td>\n",
              "      <td>3</td>\n",
              "      <td>Yes</td>\n",
              "      <td>Yes</td>\n",
              "      <td>Yes</td>\n",
              "      <td>(3) ,(1), (2)</td>\n",
              "      <td>8</td>\n",
              "      <td>Neutral</td>\n",
              "      <td>Strongly disagree</td>\n",
              "      <td>...</td>\n",
              "      <td>2</td>\n",
              "      <td>2</td>\n",
              "      <td>1</td>\n",
              "      <td>1</td>\n",
              "      <td>1</td>\n",
              "      <td>3</td>\n",
              "      <td>2</td>\n",
              "      <td>1</td>\n",
              "      <td>3</td>\n",
              "      <td>Yes</td>\n",
              "    </tr>\n",
              "    <tr>\n",
              "      <th>...</th>\n",
              "      <td>...</td>\n",
              "      <td>...</td>\n",
              "      <td>...</td>\n",
              "      <td>...</td>\n",
              "      <td>...</td>\n",
              "      <td>...</td>\n",
              "      <td>...</td>\n",
              "      <td>...</td>\n",
              "      <td>...</td>\n",
              "      <td>...</td>\n",
              "      <td>...</td>\n",
              "      <td>...</td>\n",
              "      <td>...</td>\n",
              "      <td>...</td>\n",
              "      <td>...</td>\n",
              "      <td>...</td>\n",
              "      <td>...</td>\n",
              "      <td>...</td>\n",
              "      <td>...</td>\n",
              "      <td>...</td>\n",
              "      <td>...</td>\n",
              "    </tr>\n",
              "    <tr>\n",
              "      <th>420</th>\n",
              "      <td>Female</td>\n",
              "      <td>Full-time</td>\n",
              "      <td>3</td>\n",
              "      <td>Yes</td>\n",
              "      <td>Yes</td>\n",
              "      <td>Yes</td>\n",
              "      <td>3</td>\n",
              "      <td>4</td>\n",
              "      <td>Somewhat disagree</td>\n",
              "      <td>Somewhat disagree</td>\n",
              "      <td>...</td>\n",
              "      <td>3</td>\n",
              "      <td>5</td>\n",
              "      <td>3</td>\n",
              "      <td>5</td>\n",
              "      <td>2</td>\n",
              "      <td>2</td>\n",
              "      <td>3</td>\n",
              "      <td>4</td>\n",
              "      <td>4</td>\n",
              "      <td>Yes</td>\n",
              "    </tr>\n",
              "    <tr>\n",
              "      <th>421</th>\n",
              "      <td>Male</td>\n",
              "      <td>Full-time</td>\n",
              "      <td>1</td>\n",
              "      <td>Yes</td>\n",
              "      <td>Yes</td>\n",
              "      <td>Yes</td>\n",
              "      <td>123</td>\n",
              "      <td>7</td>\n",
              "      <td>Somewhat disagree</td>\n",
              "      <td>Agree</td>\n",
              "      <td>...</td>\n",
              "      <td>4</td>\n",
              "      <td>5</td>\n",
              "      <td>2</td>\n",
              "      <td>1</td>\n",
              "      <td>7</td>\n",
              "      <td>4</td>\n",
              "      <td>3</td>\n",
              "      <td>7</td>\n",
              "      <td>3</td>\n",
              "      <td>Yes</td>\n",
              "    </tr>\n",
              "    <tr>\n",
              "      <th>422</th>\n",
              "      <td>Female</td>\n",
              "      <td>Full-time</td>\n",
              "      <td>3</td>\n",
              "      <td>Yes</td>\n",
              "      <td>Yes</td>\n",
              "      <td>Yes</td>\n",
              "      <td>2, 1, 3</td>\n",
              "      <td>8</td>\n",
              "      <td>Somewhat agree</td>\n",
              "      <td>Somewhat agree</td>\n",
              "      <td>...</td>\n",
              "      <td>5</td>\n",
              "      <td>4</td>\n",
              "      <td>2</td>\n",
              "      <td>3</td>\n",
              "      <td>2</td>\n",
              "      <td>6</td>\n",
              "      <td>3</td>\n",
              "      <td>7</td>\n",
              "      <td>5</td>\n",
              "      <td>Yes</td>\n",
              "    </tr>\n",
              "    <tr>\n",
              "      <th>423</th>\n",
              "      <td>Female</td>\n",
              "      <td>Full-time</td>\n",
              "      <td>1</td>\n",
              "      <td>Yes</td>\n",
              "      <td>Yes</td>\n",
              "      <td>No</td>\n",
              "      <td>3</td>\n",
              "      <td>6</td>\n",
              "      <td>Agree</td>\n",
              "      <td>Agree</td>\n",
              "      <td>...</td>\n",
              "      <td>2</td>\n",
              "      <td>3</td>\n",
              "      <td>2</td>\n",
              "      <td>4</td>\n",
              "      <td>6</td>\n",
              "      <td>6</td>\n",
              "      <td>4</td>\n",
              "      <td>3</td>\n",
              "      <td>2</td>\n",
              "      <td>No</td>\n",
              "    </tr>\n",
              "    <tr>\n",
              "      <th>424</th>\n",
              "      <td>Male</td>\n",
              "      <td>Full-time</td>\n",
              "      <td>1</td>\n",
              "      <td>Yes</td>\n",
              "      <td>Yes</td>\n",
              "      <td>No</td>\n",
              "      <td>1,3</td>\n",
              "      <td>6</td>\n",
              "      <td>Somewhat agree</td>\n",
              "      <td>Somewhat agree</td>\n",
              "      <td>...</td>\n",
              "      <td>3</td>\n",
              "      <td>1</td>\n",
              "      <td>3</td>\n",
              "      <td>3</td>\n",
              "      <td>3</td>\n",
              "      <td>4</td>\n",
              "      <td>3</td>\n",
              "      <td>4</td>\n",
              "      <td>3</td>\n",
              "      <td>No</td>\n",
              "    </tr>\n",
              "  </tbody>\n",
              "</table>\n",
              "<p>425 rows × 64 columns</p>\n",
              "</div>\n",
              "      <button class=\"colab-df-convert\" onclick=\"convertToInteractive('df-26c09e18-e88a-489e-b269-cd96ae4b1004')\"\n",
              "              title=\"Convert this dataframe to an interactive table.\"\n",
              "              style=\"display:none;\">\n",
              "        \n",
              "  <svg xmlns=\"http://www.w3.org/2000/svg\" height=\"24px\"viewBox=\"0 0 24 24\"\n",
              "       width=\"24px\">\n",
              "    <path d=\"M0 0h24v24H0V0z\" fill=\"none\"/>\n",
              "    <path d=\"M18.56 5.44l.94 2.06.94-2.06 2.06-.94-2.06-.94-.94-2.06-.94 2.06-2.06.94zm-11 1L8.5 8.5l.94-2.06 2.06-.94-2.06-.94L8.5 2.5l-.94 2.06-2.06.94zm10 10l.94 2.06.94-2.06 2.06-.94-2.06-.94-.94-2.06-.94 2.06-2.06.94z\"/><path d=\"M17.41 7.96l-1.37-1.37c-.4-.4-.92-.59-1.43-.59-.52 0-1.04.2-1.43.59L10.3 9.45l-7.72 7.72c-.78.78-.78 2.05 0 2.83L4 21.41c.39.39.9.59 1.41.59.51 0 1.02-.2 1.41-.59l7.78-7.78 2.81-2.81c.8-.78.8-2.07 0-2.86zM5.41 20L4 18.59l7.72-7.72 1.47 1.35L5.41 20z\"/>\n",
              "  </svg>\n",
              "      </button>\n",
              "      \n",
              "  <style>\n",
              "    .colab-df-container {\n",
              "      display:flex;\n",
              "      flex-wrap:wrap;\n",
              "      gap: 12px;\n",
              "    }\n",
              "\n",
              "    .colab-df-convert {\n",
              "      background-color: #E8F0FE;\n",
              "      border: none;\n",
              "      border-radius: 50%;\n",
              "      cursor: pointer;\n",
              "      display: none;\n",
              "      fill: #1967D2;\n",
              "      height: 32px;\n",
              "      padding: 0 0 0 0;\n",
              "      width: 32px;\n",
              "    }\n",
              "\n",
              "    .colab-df-convert:hover {\n",
              "      background-color: #E2EBFA;\n",
              "      box-shadow: 0px 1px 2px rgba(60, 64, 67, 0.3), 0px 1px 3px 1px rgba(60, 64, 67, 0.15);\n",
              "      fill: #174EA6;\n",
              "    }\n",
              "\n",
              "    [theme=dark] .colab-df-convert {\n",
              "      background-color: #3B4455;\n",
              "      fill: #D2E3FC;\n",
              "    }\n",
              "\n",
              "    [theme=dark] .colab-df-convert:hover {\n",
              "      background-color: #434B5C;\n",
              "      box-shadow: 0px 1px 3px 1px rgba(0, 0, 0, 0.15);\n",
              "      filter: drop-shadow(0px 1px 2px rgba(0, 0, 0, 0.3));\n",
              "      fill: #FFFFFF;\n",
              "    }\n",
              "  </style>\n",
              "\n",
              "      <script>\n",
              "        const buttonEl =\n",
              "          document.querySelector('#df-26c09e18-e88a-489e-b269-cd96ae4b1004 button.colab-df-convert');\n",
              "        buttonEl.style.display =\n",
              "          google.colab.kernel.accessAllowed ? 'block' : 'none';\n",
              "\n",
              "        async function convertToInteractive(key) {\n",
              "          const element = document.querySelector('#df-26c09e18-e88a-489e-b269-cd96ae4b1004');\n",
              "          const dataTable =\n",
              "            await google.colab.kernel.invokeFunction('convertToInteractive',\n",
              "                                                     [key], {});\n",
              "          if (!dataTable) return;\n",
              "\n",
              "          const docLinkHtml = 'Like what you see? Visit the ' +\n",
              "            '<a target=\"_blank\" href=https://colab.research.google.com/notebooks/data_table.ipynb>data table notebook</a>'\n",
              "            + ' to learn more about interactive tables.';\n",
              "          element.innerHTML = '';\n",
              "          dataTable['output_type'] = 'display_data';\n",
              "          await google.colab.output.renderOutput(dataTable, element);\n",
              "          const docLink = document.createElement('div');\n",
              "          docLink.innerHTML = docLinkHtml;\n",
              "          element.appendChild(docLink);\n",
              "        }\n",
              "      </script>\n",
              "    </div>\n",
              "  </div>\n",
              "  "
            ]
          },
          "metadata": {},
          "execution_count": 49
        }
      ]
    },
    {
      "cell_type": "markdown",
      "source": [
        "Now both the issues have been resolved"
      ],
      "metadata": {
        "id": "UZDjXgqcA8nG"
      }
    },
    {
      "cell_type": "code",
      "source": [
        "df['solely_for_your_use?_Imp'].value_counts(normalize=True)"
      ],
      "metadata": {
        "colab": {
          "base_uri": "https://localhost:8080/"
        },
        "id": "mTcdRWHB_RQg",
        "outputId": "a3ed97b8-0b3f-4390-ad53-34f42469daf8"
      },
      "execution_count": 41,
      "outputs": [
        {
          "output_type": "execute_result",
          "data": {
            "text/plain": [
              "Yes    0.821176\n",
              "No     0.178824\n",
              "Name: solely_for_your_use?_Imp, dtype: float64"
            ]
          },
          "metadata": {},
          "execution_count": 41
        }
      ]
    },
    {
      "cell_type": "code",
      "source": [],
      "metadata": {
        "id": "9zoftTV3seQO"
      },
      "execution_count": 41,
      "outputs": []
    },
    {
      "cell_type": "code",
      "source": [
        "X, y = make_classification(n_samples=1000, n_features=10, n_informative=5, n_redundant=5, n_classes=6, random_state=1)\n",
        "from sklearn.model_selection import cross_val_score\n",
        "\n",
        "model = LogisticRegression(multi_class='multinomial', solver='lbfgs')\n",
        "n_scores = cross_val_score(model, X, y, scoring='accuracy', n_jobs=-1)\n",
        "\n"
      ],
      "metadata": {
        "colab": {
          "base_uri": "https://localhost:8080/",
          "height": 202
        },
        "id": "DfB4-jWFwDSS",
        "outputId": "62a33fb1-c481-4b32-9098-cb2155345c11"
      },
      "execution_count": null,
      "outputs": [
        {
          "output_type": "error",
          "ename": "NameError",
          "evalue": "ignored",
          "traceback": [
            "\u001b[0;31m---------------------------------------------------------------------------\u001b[0m",
            "\u001b[0;31mNameError\u001b[0m                                 Traceback (most recent call last)",
            "\u001b[0;32m<ipython-input-19-ac8ce502936e>\u001b[0m in \u001b[0;36m<module>\u001b[0;34m\u001b[0m\n\u001b[1;32m      5\u001b[0m \u001b[0mn_scores\u001b[0m \u001b[0;34m=\u001b[0m \u001b[0mcross_val_score\u001b[0m\u001b[0;34m(\u001b[0m\u001b[0mmodel\u001b[0m\u001b[0;34m,\u001b[0m \u001b[0mX\u001b[0m\u001b[0;34m,\u001b[0m \u001b[0my\u001b[0m\u001b[0;34m,\u001b[0m \u001b[0mscoring\u001b[0m\u001b[0;34m=\u001b[0m\u001b[0;34m'accuracy'\u001b[0m\u001b[0;34m,\u001b[0m \u001b[0mn_jobs\u001b[0m\u001b[0;34m=\u001b[0m\u001b[0;34m-\u001b[0m\u001b[0;36m1\u001b[0m\u001b[0;34m)\u001b[0m\u001b[0;34m\u001b[0m\u001b[0;34m\u001b[0m\u001b[0m\n\u001b[1;32m      6\u001b[0m \u001b[0;34m\u001b[0m\u001b[0m\n\u001b[0;32m----> 7\u001b[0;31m \u001b[0msummary\u001b[0m\u001b[0;34m(\u001b[0m\u001b[0mmodel\u001b[0m\u001b[0;34m)\u001b[0m\u001b[0;34m\u001b[0m\u001b[0;34m\u001b[0m\u001b[0m\n\u001b[0m",
            "\u001b[0;31mNameError\u001b[0m: name 'summary' is not defined"
          ]
        }
      ]
    },
    {
      "cell_type": "markdown",
      "source": [
        "**Regression Analysis**"
      ],
      "metadata": {
        "id": "8okeRnvNieQ5"
      }
    },
    {
      "cell_type": "code",
      "source": [
        "reg = LinearRegression()\n",
        "X = df.values[:,35]\n",
        "Y = df.values[:,-1]\n",
        "\n",
        "model = reg.fit(X,Y)\n",
        "model.summary()"
      ],
      "metadata": {
        "colab": {
          "base_uri": "https://localhost:8080/",
          "height": 382
        },
        "id": "qkByH_7dKZSe",
        "outputId": "4371e73b-694e-4f6f-d44b-0fb482dd142b"
      },
      "execution_count": null,
      "outputs": [
        {
          "output_type": "error",
          "ename": "ValueError",
          "evalue": "ignored",
          "traceback": [
            "\u001b[0;31m---------------------------------------------------------------------------\u001b[0m",
            "\u001b[0;31mValueError\u001b[0m                                Traceback (most recent call last)",
            "\u001b[0;32m<ipython-input-11-5f66b8f31e48>\u001b[0m in \u001b[0;36m<module>\u001b[0;34m\u001b[0m\n\u001b[1;32m      3\u001b[0m \u001b[0mY\u001b[0m \u001b[0;34m=\u001b[0m \u001b[0mdf\u001b[0m\u001b[0;34m.\u001b[0m\u001b[0mvalues\u001b[0m\u001b[0;34m[\u001b[0m\u001b[0;34m:\u001b[0m\u001b[0;34m,\u001b[0m\u001b[0;34m-\u001b[0m\u001b[0;36m1\u001b[0m\u001b[0;34m]\u001b[0m\u001b[0;34m\u001b[0m\u001b[0;34m\u001b[0m\u001b[0m\n\u001b[1;32m      4\u001b[0m \u001b[0;34m\u001b[0m\u001b[0m\n\u001b[0;32m----> 5\u001b[0;31m \u001b[0mmodel\u001b[0m \u001b[0;34m=\u001b[0m \u001b[0mreg\u001b[0m\u001b[0;34m.\u001b[0m\u001b[0mfit\u001b[0m\u001b[0;34m(\u001b[0m\u001b[0mX\u001b[0m\u001b[0;34m,\u001b[0m\u001b[0mY\u001b[0m\u001b[0;34m)\u001b[0m\u001b[0;34m\u001b[0m\u001b[0;34m\u001b[0m\u001b[0m\n\u001b[0m\u001b[1;32m      6\u001b[0m \u001b[0mmodel\u001b[0m\u001b[0;34m.\u001b[0m\u001b[0msummary\u001b[0m\u001b[0;34m(\u001b[0m\u001b[0;34m)\u001b[0m\u001b[0;34m\u001b[0m\u001b[0;34m\u001b[0m\u001b[0m\n",
            "\u001b[0;32m/usr/local/lib/python3.7/dist-packages/sklearn/linear_model/_base.py\u001b[0m in \u001b[0;36mfit\u001b[0;34m(self, X, y, sample_weight)\u001b[0m\n\u001b[1;32m    661\u001b[0m \u001b[0;34m\u001b[0m\u001b[0m\n\u001b[1;32m    662\u001b[0m         X, y = self._validate_data(\n\u001b[0;32m--> 663\u001b[0;31m             \u001b[0mX\u001b[0m\u001b[0;34m,\u001b[0m \u001b[0my\u001b[0m\u001b[0;34m,\u001b[0m \u001b[0maccept_sparse\u001b[0m\u001b[0;34m=\u001b[0m\u001b[0maccept_sparse\u001b[0m\u001b[0;34m,\u001b[0m \u001b[0my_numeric\u001b[0m\u001b[0;34m=\u001b[0m\u001b[0;32mTrue\u001b[0m\u001b[0;34m,\u001b[0m \u001b[0mmulti_output\u001b[0m\u001b[0;34m=\u001b[0m\u001b[0;32mTrue\u001b[0m\u001b[0;34m\u001b[0m\u001b[0;34m\u001b[0m\u001b[0m\n\u001b[0m\u001b[1;32m    664\u001b[0m         )\n\u001b[1;32m    665\u001b[0m \u001b[0;34m\u001b[0m\u001b[0m\n",
            "\u001b[0;32m/usr/local/lib/python3.7/dist-packages/sklearn/base.py\u001b[0m in \u001b[0;36m_validate_data\u001b[0;34m(self, X, y, reset, validate_separately, **check_params)\u001b[0m\n\u001b[1;32m    579\u001b[0m                 \u001b[0my\u001b[0m \u001b[0;34m=\u001b[0m \u001b[0mcheck_array\u001b[0m\u001b[0;34m(\u001b[0m\u001b[0my\u001b[0m\u001b[0;34m,\u001b[0m \u001b[0;34m**\u001b[0m\u001b[0mcheck_y_params\u001b[0m\u001b[0;34m)\u001b[0m\u001b[0;34m\u001b[0m\u001b[0;34m\u001b[0m\u001b[0m\n\u001b[1;32m    580\u001b[0m             \u001b[0;32melse\u001b[0m\u001b[0;34m:\u001b[0m\u001b[0;34m\u001b[0m\u001b[0;34m\u001b[0m\u001b[0m\n\u001b[0;32m--> 581\u001b[0;31m                 \u001b[0mX\u001b[0m\u001b[0;34m,\u001b[0m \u001b[0my\u001b[0m \u001b[0;34m=\u001b[0m \u001b[0mcheck_X_y\u001b[0m\u001b[0;34m(\u001b[0m\u001b[0mX\u001b[0m\u001b[0;34m,\u001b[0m \u001b[0my\u001b[0m\u001b[0;34m,\u001b[0m \u001b[0;34m**\u001b[0m\u001b[0mcheck_params\u001b[0m\u001b[0;34m)\u001b[0m\u001b[0;34m\u001b[0m\u001b[0;34m\u001b[0m\u001b[0m\n\u001b[0m\u001b[1;32m    582\u001b[0m             \u001b[0mout\u001b[0m \u001b[0;34m=\u001b[0m \u001b[0mX\u001b[0m\u001b[0;34m,\u001b[0m \u001b[0my\u001b[0m\u001b[0;34m\u001b[0m\u001b[0;34m\u001b[0m\u001b[0m\n\u001b[1;32m    583\u001b[0m \u001b[0;34m\u001b[0m\u001b[0m\n",
            "\u001b[0;32m/usr/local/lib/python3.7/dist-packages/sklearn/utils/validation.py\u001b[0m in \u001b[0;36mcheck_X_y\u001b[0;34m(X, y, accept_sparse, accept_large_sparse, dtype, order, copy, force_all_finite, ensure_2d, allow_nd, multi_output, ensure_min_samples, ensure_min_features, y_numeric, estimator)\u001b[0m\n\u001b[1;32m    974\u001b[0m         \u001b[0mensure_min_samples\u001b[0m\u001b[0;34m=\u001b[0m\u001b[0mensure_min_samples\u001b[0m\u001b[0;34m,\u001b[0m\u001b[0;34m\u001b[0m\u001b[0;34m\u001b[0m\u001b[0m\n\u001b[1;32m    975\u001b[0m         \u001b[0mensure_min_features\u001b[0m\u001b[0;34m=\u001b[0m\u001b[0mensure_min_features\u001b[0m\u001b[0;34m,\u001b[0m\u001b[0;34m\u001b[0m\u001b[0;34m\u001b[0m\u001b[0m\n\u001b[0;32m--> 976\u001b[0;31m         \u001b[0mestimator\u001b[0m\u001b[0;34m=\u001b[0m\u001b[0mestimator\u001b[0m\u001b[0;34m,\u001b[0m\u001b[0;34m\u001b[0m\u001b[0;34m\u001b[0m\u001b[0m\n\u001b[0m\u001b[1;32m    977\u001b[0m     )\n\u001b[1;32m    978\u001b[0m \u001b[0;34m\u001b[0m\u001b[0m\n",
            "\u001b[0;32m/usr/local/lib/python3.7/dist-packages/sklearn/utils/validation.py\u001b[0m in \u001b[0;36mcheck_array\u001b[0;34m(array, accept_sparse, accept_large_sparse, dtype, order, copy, force_all_finite, ensure_2d, allow_nd, ensure_min_samples, ensure_min_features, estimator)\u001b[0m\n\u001b[1;32m    744\u001b[0m                     \u001b[0marray\u001b[0m \u001b[0;34m=\u001b[0m \u001b[0marray\u001b[0m\u001b[0;34m.\u001b[0m\u001b[0mastype\u001b[0m\u001b[0;34m(\u001b[0m\u001b[0mdtype\u001b[0m\u001b[0;34m,\u001b[0m \u001b[0mcasting\u001b[0m\u001b[0;34m=\u001b[0m\u001b[0;34m\"unsafe\"\u001b[0m\u001b[0;34m,\u001b[0m \u001b[0mcopy\u001b[0m\u001b[0;34m=\u001b[0m\u001b[0;32mFalse\u001b[0m\u001b[0;34m)\u001b[0m\u001b[0;34m\u001b[0m\u001b[0;34m\u001b[0m\u001b[0m\n\u001b[1;32m    745\u001b[0m                 \u001b[0;32melse\u001b[0m\u001b[0;34m:\u001b[0m\u001b[0;34m\u001b[0m\u001b[0;34m\u001b[0m\u001b[0m\n\u001b[0;32m--> 746\u001b[0;31m                     \u001b[0marray\u001b[0m \u001b[0;34m=\u001b[0m \u001b[0mnp\u001b[0m\u001b[0;34m.\u001b[0m\u001b[0masarray\u001b[0m\u001b[0;34m(\u001b[0m\u001b[0marray\u001b[0m\u001b[0;34m,\u001b[0m \u001b[0morder\u001b[0m\u001b[0;34m=\u001b[0m\u001b[0morder\u001b[0m\u001b[0;34m,\u001b[0m \u001b[0mdtype\u001b[0m\u001b[0;34m=\u001b[0m\u001b[0mdtype\u001b[0m\u001b[0;34m)\u001b[0m\u001b[0;34m\u001b[0m\u001b[0;34m\u001b[0m\u001b[0m\n\u001b[0m\u001b[1;32m    747\u001b[0m             \u001b[0;32mexcept\u001b[0m \u001b[0mComplexWarning\u001b[0m \u001b[0;32mas\u001b[0m \u001b[0mcomplex_warning\u001b[0m\u001b[0;34m:\u001b[0m\u001b[0;34m\u001b[0m\u001b[0;34m\u001b[0m\u001b[0m\n\u001b[1;32m    748\u001b[0m                 raise ValueError(\n",
            "\u001b[0;31mValueError\u001b[0m: could not convert string to float: 'Agree'"
          ]
        }
      ]
    },
    {
      "cell_type": "code",
      "source": [],
      "metadata": {
        "id": "1NNYvdtQJ4FL"
      },
      "execution_count": null,
      "outputs": []
    }
  ]
}